{
 "cells": [
  {
   "cell_type": "code",
   "execution_count": 1,
   "metadata": {},
   "outputs": [],
   "source": [
    "from scipy.spatial import distance\n",
    "from pandas import DataFrame\n",
    "from sklearn.metrics import euclidean_distances\n",
    "import numpy as np\n",
    "\n",
    "def BIC(KMeans_model, X):\n",
    "    if type(X) == DataFrame: X = X.values\n",
    "    clusters = np.array([X[KMeans_model.labels_ == i] for i in range(KMeans_model.n_clusters)])\n",
    "    centroids = KMeans_model.cluster_centers_\n",
    "    num_points = sum(len(cluster) for cluster in clusters)\n",
    "    num_dims = clusters[0][0].shape[0]\n",
    "    num_clusters = len(clusters)\n",
    "    \n",
    "    likelihood = _calculate_likelihood(num_points, num_dims,\n",
    "                                           clusters, centroids)\n",
    "    \n",
    "    complexity = _calculate_complexity(num_clusters, num_points, num_dims)\n",
    "\n",
    "    return complexity - likelihood\n",
    "\n",
    "def _calculate_complexity(num_clusters, num_points, num_dims):\n",
    "    num_params = _free_params(num_clusters, num_dims)\n",
    "    return num_params * np.log(num_points)\n",
    "\n",
    "def _calculate_likelihood(num_points, num_dims, clusters, centroids):\n",
    "    ll = 0\n",
    "    for cluster in clusters:\n",
    "        fRn = len(cluster)\n",
    "        t1 = fRn * np.log(fRn)\n",
    "        t2 = fRn * np.log(num_points)\n",
    "        variance = max(\n",
    "            _cluster_variance(num_points, clusters, centroids),\n",
    "            np.nextafter(0, 1))\n",
    "        t3 = ((fRn * num_dims) / 2.0) * np.log((2.0 * np.pi) * variance)\n",
    "        t4 = num_dims * (fRn - 1.0) / 2.0\n",
    "        ll += t1 - t2 - t3 - t4\n",
    "    return 2*ll\n",
    "\n",
    "def _free_params(num_clusters, num_dims):\n",
    "    return num_clusters * (num_dims + 1)\n",
    "\n",
    "def _cluster_variance(num_points, clusters, centroids):\n",
    "    s = 0\n",
    "    num_dims = clusters[0][0].shape[0]\n",
    "    denom = float(num_points - len(centroids)) * num_dims\n",
    "    for cluster, centroid in zip(clusters, centroids):\n",
    "        distances = euclidean_distances(cluster, centroid.reshape(-1,1).T)\n",
    "        s += (distances*distances).sum()\n",
    "    return s / denom"
   ]
  }
 ],
 "metadata": {
  "kernelspec": {
   "display_name": "Python 3",
   "language": "python",
   "name": "python3"
  },
  "language_info": {
   "codemirror_mode": {
    "name": "ipython",
    "version": 3
   },
   "file_extension": ".py",
   "mimetype": "text/x-python",
   "name": "python",
   "nbconvert_exporter": "python",
   "pygments_lexer": "ipython3",
   "version": "3.6.4"
  }
 },
 "nbformat": 4,
 "nbformat_minor": 2
}
