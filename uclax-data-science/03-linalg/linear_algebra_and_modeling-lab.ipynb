{
 "cells": [
  {
   "cell_type": "markdown",
   "metadata": {},
   "source": [
    "### 1. Use Vectors to Plot these functions\n",
    "\n",
    "- $y=-4x-5$\n",
    "- $y=2x+16$\n",
    "- $y=x^2-3x+2$\n",
    "- $4x-5y=10$"
   ]
  },
  {
   "cell_type": "code",
   "execution_count": 5,
   "metadata": {},
   "outputs": [
    {
     "data": {
      "image/png": "[encoded data removed]",
      "text/plain": [
       "plot without title"
      ]
     },
     "metadata": {},
     "output_type": "display_data"
    }
   ],
   "source": [
    "xx = seq(-1, 2, by=.1)\n",
    "yy1 <- 4*xx - 5\n",
    "yy2 <- 2*xx + 16\n",
    "yy3 <- xx*xx - 3*xx + 2\n",
    "yy4 <- 0.8*xx - 2\n",
    "library(repr)\n",
    "options(repr.plot.width=12, repr.plot.height=6)\n",
    "plot(xx, yy1, ylim=c(-10,20), xlim=c(-1,2))\n",
    "points(xx, yy2)\n",
    "points(xx, yy3)\n",
    "points(xx, yy4)\n",
    "abline(h=0); abline(v=0)"
   ]
  },
  {
   "cell_type": "markdown",
   "metadata": {},
   "source": [
    "### 2. Systems of Equations\n",
    "\n",
    "Plot the solution to these systems of equations:\n",
    "\n",
    "1. $y=-4x-5$  \n",
    "   $y=2x+16$\n",
    "1. $y=2x+16$  \n",
    "   $4x-5y=10$\n",
    "1. $y=-4x-5$  \n",
    "   $4x-5y=10$"
   ]
  },
  {
   "cell_type": "code",
   "execution_count": null,
   "metadata": {},
   "outputs": [],
   "source": []
  },
  {
   "cell_type": "markdown",
   "metadata": {},
   "source": [
    "### 3. Define these vectors\n",
    "\n",
    "- $a = (1,2)$\n",
    "- $b = (3,0.5)$\n",
    "- $c = (\\pi,e)$\n",
    "- $d=(-11,1)$\n",
    "- $e=\\left(\\frac{1}{4},\\frac{7}{9}\\right)$\n",
    "- $f=(-4,4)$"
   ]
  },
  {
   "cell_type": "code",
   "execution_count": null,
   "metadata": {},
   "outputs": [],
   "source": []
  },
  {
   "cell_type": "markdown",
   "metadata": {},
   "source": [
    "### 4. Calculate and draw a vector addition\n",
    "\n",
    "Find the result of the vector addition:\n",
    "\n",
    "$$\\mathbf{g}=\\mathbf{a}+\\mathbf{b}+\\mathbf{a}$$"
   ]
  },
  {
   "cell_type": "code",
   "execution_count": null,
   "metadata": {},
   "outputs": [],
   "source": []
  },
  {
   "cell_type": "markdown",
   "metadata": {},
   "source": [
    "### 5. Find and plot the results of\n",
    "\n",
    "$$\\mathbf{h}=3\\mathbf{b}$$"
   ]
  },
  {
   "cell_type": "code",
   "execution_count": null,
   "metadata": {},
   "outputs": [],
   "source": []
  },
  {
   "cell_type": "markdown",
   "metadata": {},
   "source": [
    "### 6. Find the results of and plot this linear combination\n",
    "\n",
    "$$\\mathbf{k}=2\\mathbf{a}+3\\mathbf{b}$$"
   ]
  },
  {
   "cell_type": "code",
   "execution_count": null,
   "metadata": {},
   "outputs": [],
   "source": []
  },
  {
   "cell_type": "markdown",
   "metadata": {},
   "source": [
    "### 7. Calculate the dot products below\n",
    "\n",
    "- $\\mathbf{a}^T\\mathbf{b}$\n",
    "- $\\mathbf{b}^T\\mathbf{d}$\n",
    "- $\\mathbf{c}^T\\mathbf{b}$\n",
    "- $\\mathbf{d}^T\\mathbf{b}$\n",
    "- $\\mathbf{e}^T\\mathbf{a}$\n",
    "- $\\mathbf{f}^T\\mathbf{d}$\n",
    "- $\\mathbf{a}^T\\mathbf{c}$"
   ]
  },
  {
   "cell_type": "code",
   "execution_count": null,
   "metadata": {},
   "outputs": [],
   "source": []
  },
  {
   "cell_type": "markdown",
   "metadata": {},
   "source": [
    "### 8. Write a function to find the magnitude of a vector.\n",
    "\n",
    "Do not use `norm`."
   ]
  },
  {
   "cell_type": "code",
   "execution_count": null,
   "metadata": {},
   "outputs": [],
   "source": []
  },
  {
   "cell_type": "markdown",
   "metadata": {},
   "source": [
    "### 9. Find the magnitude of these vectors\n",
    "\n",
    "1. Using your function.\n",
    "2. Using `norm`. \n",
    "3. Demonstrate that the methods are equivalent.\n",
    "\n",
    "\n",
    "- $\\mathbf{a}$\n",
    "- $\\mathbf{b}$\n",
    "- $\\mathbf{c}$\n",
    "- $\\mathbf{d}$\n",
    "- $\\mathbf{e}$\n",
    "- $\\mathbf{f}$"
   ]
  },
  {
   "cell_type": "code",
   "execution_count": null,
   "metadata": {},
   "outputs": [],
   "source": []
  },
  {
   "cell_type": "markdown",
   "metadata": {},
   "source": [
    "### 10. Solving Systems\n",
    "\n",
    "Use linear algebra to find the solution to these systems of equations. Plot the answers that you find along with the systems.\n",
    "\n",
    "1. $y=-4x-5$  \n",
    "   $y=2x+16$\n",
    "1. $y=2x+16$  \n",
    "   $4x-5y=10$\n",
    "1. $y=-4x-5$  \n",
    "   $4x-5y=10$"
   ]
  },
  {
   "cell_type": "code",
   "execution_count": null,
   "metadata": {},
   "outputs": [],
   "source": []
  },
  {
   "cell_type": "markdown",
   "metadata": {},
   "source": [
    "### 11. Fit a function to Random Data"
   ]
  },
  {
   "cell_type": "markdown",
   "metadata": {},
   "source": [
    "#### Generate two random points."
   ]
  },
  {
   "cell_type": "code",
   "execution_count": null,
   "metadata": {},
   "outputs": [],
   "source": [
    "p1 <- runif(2); p2 <- runif(2)"
   ]
  },
  {
   "cell_type": "markdown",
   "metadata": {},
   "source": [
    "#### Plot these two points"
   ]
  },
  {
   "cell_type": "code",
   "execution_count": null,
   "metadata": {},
   "outputs": [],
   "source": []
  },
  {
   "cell_type": "markdown",
   "metadata": {},
   "source": [
    "Use linear algebra to fit a line to these two points.\n",
    "\n",
    "We know that the equation looks like this\n",
    "\n",
    "$$y_i=\\beta_0+\\beta_1x_i$$\n",
    "\n",
    "Which we can rewrite as\n",
    "\n",
    "$$(1,x_i)^T(\\beta_0, \\beta_1)=y_i$$\n",
    "\n",
    "or\n",
    "\n",
    "$$\\left(\\begin{matrix}1&x_i\\end{matrix}\\right)\\left(\\begin{matrix}\\beta_0\\\\ \\beta_1\\end{matrix}\\right)=y_i$$\n",
    "\n",
    "We can use this to make\n",
    "\n",
    "$$X\\beta=\\mathbf{y}$$"
   ]
  },
  {
   "cell_type": "code",
   "execution_count": null,
   "metadata": {},
   "outputs": [],
   "source": []
  },
  {
   "cell_type": "markdown",
   "metadata": {},
   "source": [
    "### Find $\\beta$"
   ]
  },
  {
   "cell_type": "code",
   "execution_count": null,
   "metadata": {},
   "outputs": [],
   "source": []
  },
  {
   "cell_type": "markdown",
   "metadata": {},
   "source": [
    "Plot the two points and the line described by $\\beta$."
   ]
  },
  {
   "cell_type": "markdown",
   "metadata": {},
   "source": [
    "### 12. Find the line of best fit"
   ]
  },
  {
   "cell_type": "code",
   "execution_count": null,
   "metadata": {},
   "outputs": [],
   "source": [
    "beta_0 <- 2\n",
    "beta_1 <- -3\n",
    "xx <- seq(-5,5,by=.1)\n",
    "n <- length(xx)\n",
    "noise <- 5*runif(n)\n",
    "yy = beta_0 + beta_1*xx + noise"
   ]
  },
  {
   "cell_type": "code",
   "execution_count": null,
   "metadata": {},
   "outputs": [],
   "source": [
    "plot(xx,yy)"
   ]
  },
  {
   "cell_type": "markdown",
   "metadata": {},
   "source": [
    "#### Problem set up\n",
    "\n",
    "Create your matrices and vectors so that\n",
    "\n",
    "$$X\\beta=\\mathbf{y}$$\n",
    "\n",
    "Solve $$X^TX\\beta=X^T\\mathbf{y}$$"
   ]
  },
  {
   "cell_type": "code",
   "execution_count": null,
   "metadata": {},
   "outputs": [],
   "source": []
  },
  {
   "cell_type": "markdown",
   "metadata": {},
   "source": [
    "#### Plot the line of best fit"
   ]
  },
  {
   "cell_type": "code",
   "execution_count": null,
   "metadata": {},
   "outputs": [],
   "source": []
  }
 ],
 "metadata": {
  "kernelspec": {
   "display_name": "R",
   "language": "R",
   "name": "ir"
  },
  "language_info": {
   "codemirror_mode": "r",
   "file_extension": ".r",
   "mimetype": "text/x-r-source",
   "name": "R",
   "pygments_lexer": "r",
   "version": "3.4.1"
  }
 },
 "nbformat": 4,
 "nbformat_minor": 2
}
